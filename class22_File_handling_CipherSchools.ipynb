{
  "nbformat": 4,
  "nbformat_minor": 0,
  "metadata": {
    "colab": {
      "provenance": [],
      "authorship_tag": "ABX9TyPJtNfmTngzTTnzsEd1NA49",
      "include_colab_link": true
    },
    "kernelspec": {
      "name": "python3",
      "display_name": "Python 3"
    },
    "language_info": {
      "name": "python"
    }
  },
  "cells": [
    {
      "cell_type": "markdown",
      "metadata": {
        "id": "view-in-github",
        "colab_type": "text"
      },
      "source": [
        "<a href=\"https://colab.research.google.com/github/Shivam12220371/Week4-Python-CipherSchools/blob/main/class22_File_handling_CipherSchools.ipynb\" target=\"_parent\"><img src=\"https://colab.research.google.com/assets/colab-badge.svg\" alt=\"Open In Colab\"/></a>"
      ]
    },
    {
      "cell_type": "code",
      "execution_count": 1,
      "metadata": {
        "colab": {
          "base_uri": "https://localhost:8080/"
        },
        "id": "IljgFT0rizaQ",
        "outputId": "c141ddc0-d1e6-45ae-a658-0802a0cb6631"
      },
      "outputs": [
        {
          "output_type": "stream",
          "name": "stdout",
          "text": [
            "Entered\n",
            "1\n",
            "inside context\n",
            "Excited\n",
            "(<class 'Exception'>, Exception(), <traceback object at 0x7f907ce9f880>)\n",
            "outside context\n"
          ]
        }
      ],
      "source": [
        "class A:\n",
        "    def __enter__(self):\n",
        "        print(\"Entered\")\n",
        "        return 1\n",
        "    def __exit__(self,*args):\n",
        "        print(\"Excited\")\n",
        "        print(args)\n",
        "        return True\n",
        "with A() as x:\n",
        "    print(x)\n",
        "    print(\"inside context\")\n",
        "    raise Exception\n",
        "print(\"outside context\")"
      ]
    },
    {
      "cell_type": "code",
      "source": [
        "# \n",
        "#   \n",
        "#     Hello world\n",
        "#   \n",
        "# "
      ],
      "metadata": {
        "id": "mImtXZBzjb_P"
      },
      "execution_count": 2,
      "outputs": []
    },
    {
      "cell_type": "code",
      "source": [
        "'''{\n",
        "  \"html\":{\n",
        "    \"body\":\"Hello World\"\n",
        "  }\n",
        "}'''"
      ],
      "metadata": {
        "colab": {
          "base_uri": "https://localhost:8080/",
          "height": 35
        },
        "id": "v1tmgn55jfvm",
        "outputId": "08d48b9b-58f0-4305-9e75-82c4359c3097"
      },
      "execution_count": 3,
      "outputs": [
        {
          "output_type": "execute_result",
          "data": {
            "text/plain": [
              "'{\\n  \"html\":{\\n    \"body\":\"Hello World\"\\n  }\\n}'"
            ],
            "application/vnd.google.colaboratory.intrinsic+json": {
              "type": "string"
            }
          },
          "metadata": {},
          "execution_count": 3
        }
      ]
    },
    {
      "cell_type": "code",
      "source": [
        "# JASON RULE\n",
        "# -keys can only be strings and numbers\n",
        "# -values can only be arrays,json,strings,numbers,boolean,null"
      ],
      "metadata": {
        "id": "VuNh9s6ujiG7"
      },
      "execution_count": 4,
      "outputs": []
    },
    {
      "cell_type": "code",
      "source": [
        "a={\n",
        "    \"name\":\"Jatin Katyal\",\n",
        "   \"marks\":100,\n",
        "   \"language\":[\n",
        "       \"C++\",\n",
        "       \"Python\",\n",
        "       \"go\",\n",
        "       \"rust\"\n",
        "   ]\n",
        "}\n",
        "import json\n",
        "s=json.dumps(a)\n",
        "type(s)\n",
        "print(s)"
      ],
      "metadata": {
        "colab": {
          "base_uri": "https://localhost:8080/"
        },
        "id": "739PRV8-jmaY",
        "outputId": "78d6a59a-efd2-426b-f2e8-eb6f8ac33bad"
      },
      "execution_count": 5,
      "outputs": [
        {
          "output_type": "stream",
          "name": "stdout",
          "text": [
            "{\"name\": \"Jatin Katyal\", \"marks\": 100, \"language\": [\"C++\", \"Python\", \"go\", \"rust\"]}\n"
          ]
        }
      ]
    }
  ]
}