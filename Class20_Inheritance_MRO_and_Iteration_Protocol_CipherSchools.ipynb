{
  "nbformat": 4,
  "nbformat_minor": 0,
  "metadata": {
    "colab": {
      "provenance": [],
      "authorship_tag": "ABX9TyOpsKSXkHi77RDdUvRODXim",
      "include_colab_link": true
    },
    "kernelspec": {
      "name": "python3",
      "display_name": "Python 3"
    },
    "language_info": {
      "name": "python"
    }
  },
  "cells": [
    {
      "cell_type": "markdown",
      "metadata": {
        "id": "view-in-github",
        "colab_type": "text"
      },
      "source": [
        "<a href=\"https://colab.research.google.com/github/Shivam12220371/Week4-Python-CipherSchools/blob/main/Class20_Inheritance_MRO_and_Iteration_Protocol_CipherSchools.ipynb\" target=\"_parent\"><img src=\"https://colab.research.google.com/assets/colab-badge.svg\" alt=\"Open In Colab\"/></a>"
      ]
    },
    {
      "cell_type": "code",
      "execution_count": null,
      "metadata": {
        "id": "oWQUnRTJSjbf"
      },
      "outputs": [],
      "source": [
        "# inheritance"
      ]
    },
    {
      "cell_type": "code",
      "source": [
        "class A:\n",
        "    def __init__(self):\n",
        "        print(\"A init executed\")\n",
        "\n",
        "class B(A):\n",
        "    def __init__(self):\n",
        "        super().__init__()\n",
        "        print(\"B init executed\")"
      ],
      "metadata": {
        "id": "_8GMnEZVS49s"
      },
      "execution_count": 2,
      "outputs": []
    },
    {
      "cell_type": "code",
      "source": [
        "abc = B()"
      ],
      "metadata": {
        "colab": {
          "base_uri": "https://localhost:8080/"
        },
        "id": "0X4WTch7S76p",
        "outputId": "81401122-14ce-48c8-8de5-f24f68499a76"
      },
      "execution_count": 3,
      "outputs": [
        {
          "output_type": "stream",
          "name": "stdout",
          "text": [
            "A init executed\n",
            "B init executed\n"
          ]
        }
      ]
    },
    {
      "cell_type": "code",
      "source": [
        "# MRO (Method Resolution Order)"
      ],
      "metadata": {
        "id": "YWtYLamnS_5m"
      },
      "execution_count": 4,
      "outputs": []
    },
    {
      "cell_type": "code",
      "source": [
        "class A:\n",
        "    pass\n",
        "\n",
        "class B(A):\n",
        "    x = 5\n",
        "\n",
        "class C(B):\n",
        "    pass\n",
        "\n",
        "class D(A):\n",
        "    x = 10\n",
        "\n",
        "class E(C, D):\n",
        "    pass"
      ],
      "metadata": {
        "id": "HjEcuWhbTCL2"
      },
      "execution_count": 5,
      "outputs": []
    },
    {
      "cell_type": "code",
      "source": [
        "e = E()"
      ],
      "metadata": {
        "id": "CgVoBny_TFZ8"
      },
      "execution_count": 6,
      "outputs": []
    },
    {
      "cell_type": "code",
      "source": [
        "print(e.x)\n"
      ],
      "metadata": {
        "colab": {
          "base_uri": "https://localhost:8080/"
        },
        "id": "dgfVkX_ATHru",
        "outputId": "5c7626ab-7f7a-423a-f132-946cc55ed50d"
      },
      "execution_count": 7,
      "outputs": [
        {
          "output_type": "stream",
          "name": "stdout",
          "text": [
            "5\n"
          ]
        }
      ]
    },
    {
      "cell_type": "code",
      "source": [
        "# DFS\n",
        "# if there is a loop solve branches differently"
      ],
      "metadata": {
        "id": "pqgpQ0EBTMFl"
      },
      "execution_count": 8,
      "outputs": []
    },
    {
      "cell_type": "code",
      "source": [
        "# Iteration Protocol\n",
        "\n",
        "# For any object to be an Iterable, it should have 2 dunders\n",
        "# 1. __iter__\n",
        "# 2. __next__\n",
        "\n",
        "# Protocol\n",
        "# Object's __iter__ method Should return an iterator\n",
        "# iterator __next__ method should return the new value on every cell\n",
        "# if the iterator reaches the end, it should raise an StopIteration exception"
      ],
      "metadata": {
        "id": "FJvHFVePTO6o"
      },
      "execution_count": 9,
      "outputs": []
    },
    {
      "cell_type": "code",
      "source": [
        "a = range(5)"
      ],
      "metadata": {
        "id": "QBSsxe86TR5m"
      },
      "execution_count": 10,
      "outputs": []
    },
    {
      "cell_type": "code",
      "source": [
        "# it = a.__iter__()\n",
        "it = iter(a)"
      ],
      "metadata": {
        "id": "rJLO60CqTUCr"
      },
      "execution_count": 11,
      "outputs": []
    },
    {
      "cell_type": "code",
      "source": [
        "it"
      ],
      "metadata": {
        "colab": {
          "base_uri": "https://localhost:8080/"
        },
        "id": "zMF9iRXlTWDi",
        "outputId": "2ffa2724-4863-4e3e-e301-b5bc4e546fea"
      },
      "execution_count": 12,
      "outputs": [
        {
          "output_type": "execute_result",
          "data": {
            "text/plain": [
              "<range_iterator at 0x7f7565d926c0>"
            ]
          },
          "metadata": {},
          "execution_count": 12
        }
      ]
    },
    {
      "cell_type": "code",
      "source": [
        "# it.__next__()\n",
        "next(it)"
      ],
      "metadata": {
        "colab": {
          "base_uri": "https://localhost:8080/"
        },
        "id": "D1m3FtS8TYGs",
        "outputId": "0c241b78-f810-4c10-8e65-e27dc8d64e83"
      },
      "execution_count": 13,
      "outputs": [
        {
          "output_type": "execute_result",
          "data": {
            "text/plain": [
              "0"
            ]
          },
          "metadata": {},
          "execution_count": 13
        }
      ]
    },
    {
      "cell_type": "code",
      "source": [
        "a = 'jatin'"
      ],
      "metadata": {
        "id": "griY7x8zTa8V"
      },
      "execution_count": 14,
      "outputs": []
    },
    {
      "cell_type": "code",
      "source": [
        "iter(a)"
      ],
      "metadata": {
        "colab": {
          "base_uri": "https://localhost:8080/"
        },
        "id": "qp83AwkxTczt",
        "outputId": "239f99c4-f264-4797-ea96-4faef106610a"
      },
      "execution_count": 15,
      "outputs": [
        {
          "output_type": "execute_result",
          "data": {
            "text/plain": [
              "<str_iterator at 0x7f7565d92ac0>"
            ]
          },
          "metadata": {},
          "execution_count": 15
        }
      ]
    },
    {
      "cell_type": "code",
      "source": [
        "for i in range(5):\n",
        "    print(i)"
      ],
      "metadata": {
        "colab": {
          "base_uri": "https://localhost:8080/"
        },
        "id": "5jprp6_xTf0f",
        "outputId": "aecb6434-d5e1-4fc0-92ca-a725c97de772"
      },
      "execution_count": 16,
      "outputs": [
        {
          "output_type": "stream",
          "name": "stdout",
          "text": [
            "0\n",
            "1\n",
            "2\n",
            "3\n",
            "4\n"
          ]
        }
      ]
    },
    {
      "cell_type": "code",
      "source": [
        "class myrange:\n",
        "    def __init__(self, n):\n",
        "        self.n = n\n",
        "\n",
        "    def __iter__(self):\n",
        "        return myrange_iterator(self)\n",
        "\n",
        "class myrange_iterator:\n",
        "    def __init__(self, myrange):\n",
        "        self.myrange = myrange\n",
        "        self.i = 0\n",
        "\n",
        "    def __next__(self):\n",
        "        ret = self.i\n",
        "        self.i += 1\n",
        "\n",
        "        if ret >= self.myrange.n:\n",
        "            raise StopIteration\n",
        "\n",
        "\n",
        "        return ret\n",
        "In [182]:"
      ],
      "metadata": {
        "colab": {
          "base_uri": "https://localhost:8080/",
          "height": 130
        },
        "id": "lcHK2yGoTh3_",
        "outputId": "b8130115-caf5-4b4f-af2d-b2faaf51a75d"
      },
      "execution_count": 17,
      "outputs": [
        {
          "output_type": "error",
          "ename": "SyntaxError",
          "evalue": "ignored",
          "traceback": [
            "\u001b[0;36m  File \u001b[0;32m\"<ipython-input-17-96780a036751>\"\u001b[0;36m, line \u001b[0;32m22\u001b[0m\n\u001b[0;31m    In [182]:\u001b[0m\n\u001b[0m             ^\u001b[0m\n\u001b[0;31mSyntaxError\u001b[0m\u001b[0;31m:\u001b[0m invalid syntax\n"
          ]
        }
      ]
    },
    {
      "cell_type": "code",
      "source": [
        "a = myrange(5)"
      ],
      "metadata": {
        "id": "oE57sjuWUDzE"
      },
      "execution_count": null,
      "outputs": []
    },
    {
      "cell_type": "code",
      "source": [
        "# for (int i =0; i<10; i++)"
      ],
      "metadata": {
        "id": "QC_vGEnrTnWw"
      },
      "execution_count": 19,
      "outputs": []
    },
    {
      "cell_type": "code",
      "source": [
        "it = iter(a)\n",
        "next(it)"
      ],
      "metadata": {
        "colab": {
          "base_uri": "https://localhost:8080/",
          "height": 35
        },
        "id": "_0AHqLENTpfp",
        "outputId": "63c196e1-800f-434b-aab7-4b7e27049790"
      },
      "execution_count": 20,
      "outputs": [
        {
          "output_type": "execute_result",
          "data": {
            "text/plain": [
              "'j'"
            ],
            "application/vnd.google.colaboratory.intrinsic+json": {
              "type": "string"
            }
          },
          "metadata": {},
          "execution_count": 20
        }
      ]
    }
  ]
}